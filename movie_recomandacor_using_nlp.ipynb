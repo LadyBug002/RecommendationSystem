{
  "nbformat": 4,
  "nbformat_minor": 0,
  "metadata": {
    "colab": {
      "provenance": [],
      "gpuType": "T4",
      "include_colab_link": true
    },
    "kernelspec": {
      "name": "python3",
      "display_name": "Python 3"
    },
    "language_info": {
      "name": "python"
    },
    "accelerator": "GPU"
  },
  "cells": [
    {
      "cell_type": "markdown",
      "metadata": {
        "id": "view-in-github",
        "colab_type": "text"
      },
      "source": [
        "<a href=\"https://colab.research.google.com/github/LadyBug002/RecommendationSystem/blob/main/movie_recomandacor_using_nlp.ipynb\" target=\"_parent\"><img src=\"https://colab.research.google.com/assets/colab-badge.svg\" alt=\"Open In Colab\"/></a>"
      ]
    },
    {
      "cell_type": "code",
      "execution_count": 1,
      "metadata": {
        "id": "X28Ph9N88Q0q"
      },
      "outputs": [],
      "source": [
        "import tensorflow as tf\n",
        "import tensorflow_hub as hub"
      ]
    },
    {
      "cell_type": "code",
      "source": [
        "import matplotlib.pyplot as plt"
      ],
      "metadata": {
        "id": "WDfJ0VJaFqZR"
      },
      "execution_count": 2,
      "outputs": []
    },
    {
      "cell_type": "code",
      "source": [
        "import os\n",
        "import re\n",
        "import numpy as np\n",
        "import pandas as pd"
      ],
      "metadata": {
        "id": "XBfPlJwuFzyh"
      },
      "execution_count": 3,
      "outputs": []
    },
    {
      "cell_type": "code",
      "source": [
        "from sklearn.metrics.pairwise import cosine_similarity\n",
        "from sklearn.neighbors import NearestNeighbors\n",
        "from sklearn.decomposition import PCA"
      ],
      "metadata": {
        "id": "bp9lpAuOGCoF"
      },
      "execution_count": 4,
      "outputs": []
    },
    {
      "cell_type": "code",
      "source": [
        "!pip3 install sentencepiece\n",
        "import sentencepiece"
      ],
      "metadata": {
        "colab": {
          "base_uri": "https://localhost:8080/"
        },
        "id": "ooJD8SQ1I0uB",
        "outputId": "3ba44d75-522d-4108-b39c-34a0a78c5bc5"
      },
      "execution_count": 5,
      "outputs": [
        {
          "output_type": "stream",
          "name": "stdout",
          "text": [
            "Requirement already satisfied: sentencepiece in /usr/local/lib/python3.10/dist-packages (0.1.99)\n"
          ]
        }
      ]
    },
    {
      "cell_type": "code",
      "source": [
        "model_url = \"https://tfhub.dev/google/universal-sentence-encoder/4\"\n",
        "model = hub.load(model_url)\n",
        "print('Model Loaded')"
      ],
      "metadata": {
        "colab": {
          "base_uri": "https://localhost:8080/"
        },
        "id": "a6hzjg2QJK49",
        "outputId": "096fd942-51df-4ba2-fe33-3c62079c35ec"
      },
      "execution_count": 6,
      "outputs": [
        {
          "output_type": "stream",
          "name": "stdout",
          "text": [
            "Model Loaded\n"
          ]
        }
      ]
    },
    {
      "cell_type": "code",
      "source": [
        "def embed(texts):\n",
        "  return model(texts)"
      ],
      "metadata": {
        "id": "o8a9JSpEKJiV"
      },
      "execution_count": 7,
      "outputs": []
    },
    {
      "cell_type": "code",
      "source": [
        "embed(['This movie was great!'])"
      ],
      "metadata": {
        "colab": {
          "base_uri": "https://localhost:8080/"
        },
        "id": "3B3fgrVONSVi",
        "outputId": "e156308e-0c4e-45a6-92ce-959311e8aa9d"
      },
      "execution_count": 8,
      "outputs": [
        {
          "output_type": "execute_result",
          "data": {
            "text/plain": [
              "<tf.Tensor: shape=(1, 512), dtype=float32, numpy=\n",
              "array([[ 0.00549277,  0.02886906, -0.02628894,  0.04502157, -0.01233333,\n",
              "         0.02568332, -0.00071879, -0.05447305,  0.04221926, -0.01913711,\n",
              "         0.02710008, -0.04328043, -0.02486855,  0.01359515,  0.00482791,\n",
              "        -0.05379638,  0.01630705,  0.02139905,  0.02644023, -0.02320255,\n",
              "         0.06569219, -0.10137626, -0.01691998,  0.02492484,  0.02406812,\n",
              "        -0.03139619, -0.03265483, -0.05174927, -0.0727149 ,  0.10145196,\n",
              "         0.03868442,  0.0438069 , -0.02071747, -0.01873295, -0.03071437,\n",
              "         0.01825577,  0.03627163,  0.01321464,  0.00943491, -0.03006621,\n",
              "         0.06655684,  0.01529935, -0.10101432, -0.0067194 , -0.01578644,\n",
              "         0.04991003,  0.02548564,  0.05454977, -0.0165857 ,  0.05624885,\n",
              "         0.038345  , -0.08679942, -0.06096426, -0.01161775,  0.01997451,\n",
              "         0.04206816, -0.04119829, -0.00768589, -0.05101155,  0.01210043,\n",
              "        -0.0167321 , -0.01382076,  0.00373708,  0.04911596, -0.03481683,\n",
              "         0.05704321,  0.01964702,  0.01331995,  0.0639983 , -0.0600764 ,\n",
              "         0.0497704 ,  0.05969531, -0.00512163,  0.0034554 ,  0.02347388,\n",
              "         0.01657879,  0.00882617, -0.05840246,  0.01081952,  0.09112441,\n",
              "        -0.04244037,  0.02378711, -0.00078292,  0.02853672,  0.00093318,\n",
              "         0.04208676,  0.03671129, -0.04355021, -0.09307761, -0.00054822,\n",
              "        -0.01398354, -0.02585267,  0.00277774,  0.03043686,  0.10135813,\n",
              "         0.00514982,  0.00857202, -0.05206994,  0.09978892,  0.09052151,\n",
              "         0.00727674, -0.00806306,  0.01509868, -0.0002492 ,  0.0034427 ,\n",
              "        -0.01363512, -0.02850652, -0.02132624,  0.00644554,  0.00035646,\n",
              "         0.04428072,  0.04263918,  0.06019286, -0.01540299, -0.05650956,\n",
              "         0.06915257, -0.0207085 , -0.05304859,  0.02065354,  0.02122758,\n",
              "        -0.01767538, -0.00901932, -0.02521259, -0.02947344, -0.00788982,\n",
              "        -0.08103786,  0.00427626, -0.10145586,  0.06386338,  0.09853414,\n",
              "        -0.00386894, -0.0263625 ,  0.03109703, -0.06319854,  0.02323461,\n",
              "        -0.08689979, -0.02764197, -0.03676214, -0.09642365, -0.00811526,\n",
              "         0.02796135, -0.04216219,  0.02821671,  0.07147537,  0.0202941 ,\n",
              "         0.05213047,  0.00547964,  0.01005901, -0.00968193,  0.0003822 ,\n",
              "         0.02508672,  0.00367782, -0.08550171, -0.03470816,  0.03182832,\n",
              "         0.07189632,  0.07062655, -0.04086528,  0.06687137, -0.01880953,\n",
              "        -0.05949425,  0.02761283,  0.07921506,  0.07259228, -0.03060988,\n",
              "         0.02377024, -0.07497516, -0.03893209,  0.03242344,  0.00316036,\n",
              "         0.01624398,  0.06015553, -0.02738688, -0.03726017, -0.0224983 ,\n",
              "         0.05164829, -0.04710848,  0.04515134,  0.01647222, -0.07968114,\n",
              "        -0.02482686,  0.0758118 , -0.04040243, -0.02527554,  0.03866643,\n",
              "         0.02881844,  0.03863067,  0.03125423,  0.09795641,  0.05011385,\n",
              "        -0.04737546, -0.0073725 ,  0.01652109, -0.0683504 ,  0.01118036,\n",
              "        -0.04373858,  0.01260421, -0.00242771, -0.00058695, -0.02478769,\n",
              "         0.02563105, -0.0530264 , -0.01710282,  0.00217775,  0.06206434,\n",
              "         0.00491735,  0.06120979,  0.0165525 , -0.03342636, -0.00202422,\n",
              "        -0.07622243,  0.00806766, -0.08526599, -0.02341256,  0.08972815,\n",
              "        -0.02402734, -0.01625871, -0.04681422,  0.02810658, -0.03114542,\n",
              "         0.01489858, -0.05796924, -0.04334747,  0.04788567, -0.09521475,\n",
              "         0.05614288, -0.09003565, -0.00125589,  0.04825944, -0.01603314,\n",
              "         0.00241589, -0.00702673,  0.02820107,  0.09956265, -0.00557055,\n",
              "        -0.00392301,  0.07811753,  0.04828187,  0.01216741,  0.026498  ,\n",
              "         0.02752786,  0.02974232,  0.07337302,  0.00549879,  0.0217541 ,\n",
              "         0.03527226, -0.02245827, -0.03951043, -0.0171816 , -0.00958712,\n",
              "         0.01648904,  0.02756682, -0.04291255,  0.0161679 ,  0.04632333,\n",
              "         0.03654641,  0.00651556, -0.03667974,  0.05807522, -0.01841662,\n",
              "        -0.00266968,  0.00346312, -0.02939764, -0.01507319,  0.01409323,\n",
              "        -0.00591193,  0.03839972,  0.04513567,  0.01936356,  0.02554664,\n",
              "         0.07666099,  0.10104095,  0.00929442,  0.0048254 ,  0.02027609,\n",
              "         0.00240539,  0.02083167, -0.03676213,  0.10099946,  0.03398843,\n",
              "         0.05451921,  0.01629776,  0.001531  ,  0.04745299, -0.02842082,\n",
              "        -0.10145631, -0.03567197,  0.04948912,  0.05039082, -0.03494557,\n",
              "        -0.00588502,  0.09687837, -0.05840484,  0.01675772,  0.02724423,\n",
              "         0.02663237,  0.0382852 ,  0.03009385,  0.01220315,  0.06866227,\n",
              "         0.02131042, -0.02601962, -0.02164594, -0.0596608 ,  0.0247754 ,\n",
              "        -0.0352396 ,  0.0339357 ,  0.00168261, -0.00818859,  0.06598676,\n",
              "        -0.0147799 , -0.00547294,  0.0250523 ,  0.00648726,  0.02565607,\n",
              "         0.02956762, -0.03080939, -0.03890034, -0.03340891,  0.00147071,\n",
              "        -0.01925289,  0.03625211,  0.06860747, -0.04845808,  0.01100693,\n",
              "        -0.00560861,  0.0229566 , -0.00988503, -0.0304068 ,  0.01045824,\n",
              "         0.00439851,  0.00435436, -0.01468394, -0.02332358, -0.09393281,\n",
              "        -0.04051304, -0.02504385, -0.02483057, -0.00718712,  0.02460038,\n",
              "         0.09772791,  0.04025532, -0.03151969,  0.0081545 ,  0.02152841,\n",
              "         0.02150856, -0.05112506, -0.10104636, -0.04361085, -0.03795951,\n",
              "        -0.01316942, -0.00344938, -0.04037198,  0.01797777, -0.01757191,\n",
              "        -0.04222957, -0.0975797 , -0.00327322,  0.03685586,  0.05532565,\n",
              "        -0.014063  , -0.04614404,  0.09916462,  0.03399032,  0.03972923,\n",
              "         0.01713766, -0.09407923,  0.04282651, -0.01115873,  0.02056499,\n",
              "        -0.02484542,  0.02506445,  0.00555099, -0.00292717,  0.03787243,\n",
              "        -0.03494244,  0.06777944,  0.02706828,  0.0385049 , -0.05578917,\n",
              "        -0.0330214 ,  0.00301088,  0.02818895,  0.07666627, -0.08516956,\n",
              "        -0.03537202, -0.06837834, -0.00548795, -0.01908863, -0.00284596,\n",
              "         0.08247841, -0.01801237, -0.00120914,  0.02134804,  0.02816007,\n",
              "        -0.02182807, -0.07698049,  0.04191497, -0.01772331, -0.10040031,\n",
              "         0.00692176, -0.02796316, -0.04455822, -0.06157222,  0.10145625,\n",
              "        -0.00963379,  0.10096458,  0.00471769,  0.06617887,  0.03885558,\n",
              "        -0.00787659,  0.02685579, -0.03091919, -0.01056329,  0.10033692,\n",
              "        -0.03595693, -0.01495694,  0.05245738, -0.03973066,  0.04209257,\n",
              "         0.01853598,  0.02311867, -0.05690552, -0.0329365 ,  0.02865034,\n",
              "         0.06984375, -0.02771941,  0.05746059, -0.01802604,  0.10100625,\n",
              "         0.00823105, -0.00218665, -0.01977457, -0.02139795, -0.02073986,\n",
              "        -0.07589927, -0.02751529,  0.01627716, -0.01539136, -0.06262939,\n",
              "         0.01311476, -0.09933811, -0.04334496, -0.08061337,  0.00917242,\n",
              "        -0.02972651, -0.0258902 , -0.06180015, -0.03558386,  0.01895516,\n",
              "        -0.01997392, -0.00617033,  0.0760624 ,  0.0464051 ,  0.02881572,\n",
              "        -0.04640506, -0.01369575, -0.06184129,  0.04200372,  0.00202797,\n",
              "        -0.02030319,  0.0484475 ,  0.01807222,  0.07844782, -0.03313062,\n",
              "         0.05824583,  0.0044784 , -0.0196114 , -0.00045632,  0.03107093,\n",
              "        -0.00321141,  0.0168086 ,  0.06138911,  0.00517966, -0.02396528,\n",
              "         0.02933807, -0.05025383, -0.04185724,  0.09955992,  0.06448299,\n",
              "         0.0360692 , -0.03115355,  0.01786364,  0.0103799 ,  0.06728493,\n",
              "        -0.06519368,  0.00495943,  0.10143957, -0.01632895, -0.04359464,\n",
              "        -0.02721569, -0.01624426,  0.03745247, -0.02960905,  0.04793226,\n",
              "        -0.01649586, -0.00442804,  0.00562305, -0.0187094 , -0.05266129,\n",
              "        -0.02731569, -0.10080238,  0.02205934,  0.02533061, -0.0471325 ,\n",
              "         0.01325949, -0.01660335,  0.00863715,  0.06462494, -0.05216797,\n",
              "         0.10145402, -0.00225029]], dtype=float32)>"
            ]
          },
          "metadata": {},
          "execution_count": 8
        }
      ]
    },
    {
      "cell_type": "code",
      "source": [
        "df = pd.read_csv(\"Top_10000_Movies.csv\", engine = \"python\")\n",
        "df.head()"
      ],
      "metadata": {
        "colab": {
          "base_uri": "https://localhost:8080/",
          "height": 484
        },
        "id": "bY8r1wu9OdeV",
        "outputId": "0f23e72f-4b2c-4b45-8803-2f4aac03c140"
      },
      "execution_count": 9,
      "outputs": [
        {
          "output_type": "execute_result",
          "data": {
            "text/plain": [
              "  Unnamed: 0        id original_language               original_title  \\\n",
              "0          0  580489.0                en  Venom: Let There Be Carnage   \n",
              "1          1  524434.0                en                     Eternals   \n",
              "2          2  438631.0                en                         Dune   \n",
              "3          3  796499.0                en              Army of Thieves   \n",
              "4          4  550988.0                en                     Free Guy   \n",
              "\n",
              "   popularity release_date  vote_average  vote_count  \\\n",
              "0    5401.308   2021-09-30           6.8      1736.0   \n",
              "1    3365.535   2021-11-03           7.1       622.0   \n",
              "2    2911.423   2021-09-15           8.0      3632.0   \n",
              "3    2552.437   2021-10-27           6.9       555.0   \n",
              "4    1850.470   2021-08-11           7.8      3493.0   \n",
              "\n",
              "                                               genre  \\\n",
              "0         ['Science Fiction', 'Action', 'Adventure']   \n",
              "1  ['Action', 'Adventure', 'Science Fiction', 'Fa...   \n",
              "2         ['Action', 'Adventure', 'Science Fiction']   \n",
              "3                    ['Action', 'Crime', 'Thriller']   \n",
              "4  ['Comedy', 'Action', 'Adventure', 'Science Fic...   \n",
              "\n",
              "                                            overview      revenue  runtime  \\\n",
              "0  After finding a host body in investigative rep...  424000000.0     97.0   \n",
              "1  The Eternals are a team of ancient aliens who ...  165000000.0    157.0   \n",
              "2  Paul Atreides, a brilliant and gifted young ma...  331116356.0    155.0   \n",
              "3  A mysterious woman recruits bank teller Ludwig...          0.0    127.0   \n",
              "4  A bank teller called Guy realizes he is a back...  331096766.0    115.0   \n",
              "\n",
              "                                          tagline  \n",
              "0                                             NaN  \n",
              "1                             In the beginning...  \n",
              "2                    Beyond fear, destiny awaits.  \n",
              "3    Before Vegas, one locksmith became a legend.  \n",
              "4  Life's too short to be a background character.  "
            ],
            "text/html": [
              "\n",
              "  <div id=\"df-c908d0f4-1f75-408c-89b8-1463f423627a\" class=\"colab-df-container\">\n",
              "    <div>\n",
              "<style scoped>\n",
              "    .dataframe tbody tr th:only-of-type {\n",
              "        vertical-align: middle;\n",
              "    }\n",
              "\n",
              "    .dataframe tbody tr th {\n",
              "        vertical-align: top;\n",
              "    }\n",
              "\n",
              "    .dataframe thead th {\n",
              "        text-align: right;\n",
              "    }\n",
              "</style>\n",
              "<table border=\"1\" class=\"dataframe\">\n",
              "  <thead>\n",
              "    <tr style=\"text-align: right;\">\n",
              "      <th></th>\n",
              "      <th>Unnamed: 0</th>\n",
              "      <th>id</th>\n",
              "      <th>original_language</th>\n",
              "      <th>original_title</th>\n",
              "      <th>popularity</th>\n",
              "      <th>release_date</th>\n",
              "      <th>vote_average</th>\n",
              "      <th>vote_count</th>\n",
              "      <th>genre</th>\n",
              "      <th>overview</th>\n",
              "      <th>revenue</th>\n",
              "      <th>runtime</th>\n",
              "      <th>tagline</th>\n",
              "    </tr>\n",
              "  </thead>\n",
              "  <tbody>\n",
              "    <tr>\n",
              "      <th>0</th>\n",
              "      <td>0</td>\n",
              "      <td>580489.0</td>\n",
              "      <td>en</td>\n",
              "      <td>Venom: Let There Be Carnage</td>\n",
              "      <td>5401.308</td>\n",
              "      <td>2021-09-30</td>\n",
              "      <td>6.8</td>\n",
              "      <td>1736.0</td>\n",
              "      <td>['Science Fiction', 'Action', 'Adventure']</td>\n",
              "      <td>After finding a host body in investigative rep...</td>\n",
              "      <td>424000000.0</td>\n",
              "      <td>97.0</td>\n",
              "      <td>NaN</td>\n",
              "    </tr>\n",
              "    <tr>\n",
              "      <th>1</th>\n",
              "      <td>1</td>\n",
              "      <td>524434.0</td>\n",
              "      <td>en</td>\n",
              "      <td>Eternals</td>\n",
              "      <td>3365.535</td>\n",
              "      <td>2021-11-03</td>\n",
              "      <td>7.1</td>\n",
              "      <td>622.0</td>\n",
              "      <td>['Action', 'Adventure', 'Science Fiction', 'Fa...</td>\n",
              "      <td>The Eternals are a team of ancient aliens who ...</td>\n",
              "      <td>165000000.0</td>\n",
              "      <td>157.0</td>\n",
              "      <td>In the beginning...</td>\n",
              "    </tr>\n",
              "    <tr>\n",
              "      <th>2</th>\n",
              "      <td>2</td>\n",
              "      <td>438631.0</td>\n",
              "      <td>en</td>\n",
              "      <td>Dune</td>\n",
              "      <td>2911.423</td>\n",
              "      <td>2021-09-15</td>\n",
              "      <td>8.0</td>\n",
              "      <td>3632.0</td>\n",
              "      <td>['Action', 'Adventure', 'Science Fiction']</td>\n",
              "      <td>Paul Atreides, a brilliant and gifted young ma...</td>\n",
              "      <td>331116356.0</td>\n",
              "      <td>155.0</td>\n",
              "      <td>Beyond fear, destiny awaits.</td>\n",
              "    </tr>\n",
              "    <tr>\n",
              "      <th>3</th>\n",
              "      <td>3</td>\n",
              "      <td>796499.0</td>\n",
              "      <td>en</td>\n",
              "      <td>Army of Thieves</td>\n",
              "      <td>2552.437</td>\n",
              "      <td>2021-10-27</td>\n",
              "      <td>6.9</td>\n",
              "      <td>555.0</td>\n",
              "      <td>['Action', 'Crime', 'Thriller']</td>\n",
              "      <td>A mysterious woman recruits bank teller Ludwig...</td>\n",
              "      <td>0.0</td>\n",
              "      <td>127.0</td>\n",
              "      <td>Before Vegas, one locksmith became a legend.</td>\n",
              "    </tr>\n",
              "    <tr>\n",
              "      <th>4</th>\n",
              "      <td>4</td>\n",
              "      <td>550988.0</td>\n",
              "      <td>en</td>\n",
              "      <td>Free Guy</td>\n",
              "      <td>1850.470</td>\n",
              "      <td>2021-08-11</td>\n",
              "      <td>7.8</td>\n",
              "      <td>3493.0</td>\n",
              "      <td>['Comedy', 'Action', 'Adventure', 'Science Fic...</td>\n",
              "      <td>A bank teller called Guy realizes he is a back...</td>\n",
              "      <td>331096766.0</td>\n",
              "      <td>115.0</td>\n",
              "      <td>Life's too short to be a background character.</td>\n",
              "    </tr>\n",
              "  </tbody>\n",
              "</table>\n",
              "</div>\n",
              "    <div class=\"colab-df-buttons\">\n",
              "\n",
              "  <div class=\"colab-df-container\">\n",
              "    <button class=\"colab-df-convert\" onclick=\"convertToInteractive('df-c908d0f4-1f75-408c-89b8-1463f423627a')\"\n",
              "            title=\"Convert this dataframe to an interactive table.\"\n",
              "            style=\"display:none;\">\n",
              "\n",
              "  <svg xmlns=\"http://www.w3.org/2000/svg\" height=\"24px\" viewBox=\"0 -960 960 960\">\n",
              "    <path d=\"M120-120v-720h720v720H120Zm60-500h600v-160H180v160Zm220 220h160v-160H400v160Zm0 220h160v-160H400v160ZM180-400h160v-160H180v160Zm440 0h160v-160H620v160ZM180-180h160v-160H180v160Zm440 0h160v-160H620v160Z\"/>\n",
              "  </svg>\n",
              "    </button>\n",
              "\n",
              "  <style>\n",
              "    .colab-df-container {\n",
              "      display:flex;\n",
              "      gap: 12px;\n",
              "    }\n",
              "\n",
              "    .colab-df-convert {\n",
              "      background-color: #E8F0FE;\n",
              "      border: none;\n",
              "      border-radius: 50%;\n",
              "      cursor: pointer;\n",
              "      display: none;\n",
              "      fill: #1967D2;\n",
              "      height: 32px;\n",
              "      padding: 0 0 0 0;\n",
              "      width: 32px;\n",
              "    }\n",
              "\n",
              "    .colab-df-convert:hover {\n",
              "      background-color: #E2EBFA;\n",
              "      box-shadow: 0px 1px 2px rgba(60, 64, 67, 0.3), 0px 1px 3px 1px rgba(60, 64, 67, 0.15);\n",
              "      fill: #174EA6;\n",
              "    }\n",
              "\n",
              "    .colab-df-buttons div {\n",
              "      margin-bottom: 4px;\n",
              "    }\n",
              "\n",
              "    [theme=dark] .colab-df-convert {\n",
              "      background-color: #3B4455;\n",
              "      fill: #D2E3FC;\n",
              "    }\n",
              "\n",
              "    [theme=dark] .colab-df-convert:hover {\n",
              "      background-color: #434B5C;\n",
              "      box-shadow: 0px 1px 3px 1px rgba(0, 0, 0, 0.15);\n",
              "      filter: drop-shadow(0px 1px 2px rgba(0, 0, 0, 0.3));\n",
              "      fill: #FFFFFF;\n",
              "    }\n",
              "  </style>\n",
              "\n",
              "    <script>\n",
              "      const buttonEl =\n",
              "        document.querySelector('#df-c908d0f4-1f75-408c-89b8-1463f423627a button.colab-df-convert');\n",
              "      buttonEl.style.display =\n",
              "        google.colab.kernel.accessAllowed ? 'block' : 'none';\n",
              "\n",
              "      async function convertToInteractive(key) {\n",
              "        const element = document.querySelector('#df-c908d0f4-1f75-408c-89b8-1463f423627a');\n",
              "        const dataTable =\n",
              "          await google.colab.kernel.invokeFunction('convertToInteractive',\n",
              "                                                    [key], {});\n",
              "        if (!dataTable) return;\n",
              "\n",
              "        const docLinkHtml = 'Like what you see? Visit the ' +\n",
              "          '<a target=\"_blank\" href=https://colab.research.google.com/notebooks/data_table.ipynb>data table notebook</a>'\n",
              "          + ' to learn more about interactive tables.';\n",
              "        element.innerHTML = '';\n",
              "        dataTable['output_type'] = 'display_data';\n",
              "        await google.colab.output.renderOutput(dataTable, element);\n",
              "        const docLink = document.createElement('div');\n",
              "        docLink.innerHTML = docLinkHtml;\n",
              "        element.appendChild(docLink);\n",
              "      }\n",
              "    </script>\n",
              "  </div>\n",
              "\n",
              "\n",
              "<div id=\"df-956640f7-c601-4c66-bc8c-b65d068d151a\">\n",
              "  <button class=\"colab-df-quickchart\" onclick=\"quickchart('df-956640f7-c601-4c66-bc8c-b65d068d151a')\"\n",
              "            title=\"Suggest charts\"\n",
              "            style=\"display:none;\">\n",
              "\n",
              "<svg xmlns=\"http://www.w3.org/2000/svg\" height=\"24px\"viewBox=\"0 0 24 24\"\n",
              "     width=\"24px\">\n",
              "    <g>\n",
              "        <path d=\"M19 3H5c-1.1 0-2 .9-2 2v14c0 1.1.9 2 2 2h14c1.1 0 2-.9 2-2V5c0-1.1-.9-2-2-2zM9 17H7v-7h2v7zm4 0h-2V7h2v10zm4 0h-2v-4h2v4z\"/>\n",
              "    </g>\n",
              "</svg>\n",
              "  </button>\n",
              "\n",
              "<style>\n",
              "  .colab-df-quickchart {\n",
              "      --bg-color: #E8F0FE;\n",
              "      --fill-color: #1967D2;\n",
              "      --hover-bg-color: #E2EBFA;\n",
              "      --hover-fill-color: #174EA6;\n",
              "      --disabled-fill-color: #AAA;\n",
              "      --disabled-bg-color: #DDD;\n",
              "  }\n",
              "\n",
              "  [theme=dark] .colab-df-quickchart {\n",
              "      --bg-color: #3B4455;\n",
              "      --fill-color: #D2E3FC;\n",
              "      --hover-bg-color: #434B5C;\n",
              "      --hover-fill-color: #FFFFFF;\n",
              "      --disabled-bg-color: #3B4455;\n",
              "      --disabled-fill-color: #666;\n",
              "  }\n",
              "\n",
              "  .colab-df-quickchart {\n",
              "    background-color: var(--bg-color);\n",
              "    border: none;\n",
              "    border-radius: 50%;\n",
              "    cursor: pointer;\n",
              "    display: none;\n",
              "    fill: var(--fill-color);\n",
              "    height: 32px;\n",
              "    padding: 0;\n",
              "    width: 32px;\n",
              "  }\n",
              "\n",
              "  .colab-df-quickchart:hover {\n",
              "    background-color: var(--hover-bg-color);\n",
              "    box-shadow: 0 1px 2px rgba(60, 64, 67, 0.3), 0 1px 3px 1px rgba(60, 64, 67, 0.15);\n",
              "    fill: var(--button-hover-fill-color);\n",
              "  }\n",
              "\n",
              "  .colab-df-quickchart-complete:disabled,\n",
              "  .colab-df-quickchart-complete:disabled:hover {\n",
              "    background-color: var(--disabled-bg-color);\n",
              "    fill: var(--disabled-fill-color);\n",
              "    box-shadow: none;\n",
              "  }\n",
              "\n",
              "  .colab-df-spinner {\n",
              "    border: 2px solid var(--fill-color);\n",
              "    border-color: transparent;\n",
              "    border-bottom-color: var(--fill-color);\n",
              "    animation:\n",
              "      spin 1s steps(1) infinite;\n",
              "  }\n",
              "\n",
              "  @keyframes spin {\n",
              "    0% {\n",
              "      border-color: transparent;\n",
              "      border-bottom-color: var(--fill-color);\n",
              "      border-left-color: var(--fill-color);\n",
              "    }\n",
              "    20% {\n",
              "      border-color: transparent;\n",
              "      border-left-color: var(--fill-color);\n",
              "      border-top-color: var(--fill-color);\n",
              "    }\n",
              "    30% {\n",
              "      border-color: transparent;\n",
              "      border-left-color: var(--fill-color);\n",
              "      border-top-color: var(--fill-color);\n",
              "      border-right-color: var(--fill-color);\n",
              "    }\n",
              "    40% {\n",
              "      border-color: transparent;\n",
              "      border-right-color: var(--fill-color);\n",
              "      border-top-color: var(--fill-color);\n",
              "    }\n",
              "    60% {\n",
              "      border-color: transparent;\n",
              "      border-right-color: var(--fill-color);\n",
              "    }\n",
              "    80% {\n",
              "      border-color: transparent;\n",
              "      border-right-color: var(--fill-color);\n",
              "      border-bottom-color: var(--fill-color);\n",
              "    }\n",
              "    90% {\n",
              "      border-color: transparent;\n",
              "      border-bottom-color: var(--fill-color);\n",
              "    }\n",
              "  }\n",
              "</style>\n",
              "\n",
              "  <script>\n",
              "    async function quickchart(key) {\n",
              "      const quickchartButtonEl =\n",
              "        document.querySelector('#' + key + ' button');\n",
              "      quickchartButtonEl.disabled = true;  // To prevent multiple clicks.\n",
              "      quickchartButtonEl.classList.add('colab-df-spinner');\n",
              "      try {\n",
              "        const charts = await google.colab.kernel.invokeFunction(\n",
              "            'suggestCharts', [key], {});\n",
              "      } catch (error) {\n",
              "        console.error('Error during call to suggestCharts:', error);\n",
              "      }\n",
              "      quickchartButtonEl.classList.remove('colab-df-spinner');\n",
              "      quickchartButtonEl.classList.add('colab-df-quickchart-complete');\n",
              "    }\n",
              "    (() => {\n",
              "      let quickchartButtonEl =\n",
              "        document.querySelector('#df-956640f7-c601-4c66-bc8c-b65d068d151a button');\n",
              "      quickchartButtonEl.style.display =\n",
              "        google.colab.kernel.accessAllowed ? 'block' : 'none';\n",
              "    })();\n",
              "  </script>\n",
              "</div>\n",
              "    </div>\n",
              "  </div>\n"
            ],
            "application/vnd.google.colaboratory.intrinsic+json": {
              "type": "dataframe",
              "variable_name": "df",
              "summary": "{\n  \"name\": \"df\",\n  \"rows\": 10014,\n  \"fields\": [\n    {\n      \"column\": \"Unnamed: 0\",\n      \"properties\": {\n        \"dtype\": \"string\",\n        \"num_unique_values\": 10014,\n        \"samples\": [\n          \"1617\",\n          \"3914\",\n          \"2164\"\n        ],\n        \"semantic_type\": \"\",\n        \"description\": \"\"\n      }\n    },\n    {\n      \"column\": \"id\",\n      \"properties\": {\n        \"dtype\": \"number\",\n        \"std\": 261732.32957084916,\n        \"min\": 0.0,\n        \"max\": 893478.0,\n        \"num_unique_values\": 10001,\n        \"samples\": [\n          1492.0,\n          309924.0,\n          425134.0\n        ],\n        \"semantic_type\": \"\",\n        \"description\": \"\"\n      }\n    },\n    {\n      \"column\": \"original_language\",\n      \"properties\": {\n        \"dtype\": \"category\",\n        \"num_unique_values\": 49,\n        \"samples\": [\n          \"da\",\n          \"ka\",\n          \"be\"\n        ],\n        \"semantic_type\": \"\",\n        \"description\": \"\"\n      }\n    },\n    {\n      \"column\": \"original_title\",\n      \"properties\": {\n        \"dtype\": \"string\",\n        \"num_unique_values\": 9757,\n        \"samples\": [\n          \"Vadias do Sexo Sangrento\",\n          \"Daredevil\",\n          \"Friends with Benefits\"\n        ],\n        \"semantic_type\": \"\",\n        \"description\": \"\"\n      }\n    },\n    {\n      \"column\": \"popularity\",\n      \"properties\": {\n        \"dtype\": \"number\",\n        \"std\": 100.69395779578333,\n        \"min\": 6.269,\n        \"max\": 5401.308,\n        \"num_unique_values\": 8596,\n        \"samples\": [\n          18.02,\n          11.279,\n          42.001\n        ],\n        \"semantic_type\": \"\",\n        \"description\": \"\"\n      }\n    },\n    {\n      \"column\": \"release_date\",\n      \"properties\": {\n        \"dtype\": \"object\",\n        \"num_unique_values\": 5727,\n        \"samples\": [\n          \"1981-05-23\",\n          \"1982-12-03\",\n          \"2007-09-09\"\n        ],\n        \"semantic_type\": \"\",\n        \"description\": \"\"\n      }\n    },\n    {\n      \"column\": \"vote_average\",\n      \"properties\": {\n        \"dtype\": \"number\",\n        \"std\": 1.4342597908380341,\n        \"min\": 0.0,\n        \"max\": 9.5,\n        \"num_unique_values\": 73,\n        \"samples\": [\n          7.8,\n          3.6,\n          6.2\n        ],\n        \"semantic_type\": \"\",\n        \"description\": \"\"\n      }\n    },\n    {\n      \"column\": \"vote_count\",\n      \"properties\": {\n        \"dtype\": \"number\",\n        \"std\": 2501.8991030023876,\n        \"min\": 0.0,\n        \"max\": 30184.0,\n        \"num_unique_values\": 3208,\n        \"samples\": [\n          3333.0,\n          1075.0,\n          623.0\n        ],\n        \"semantic_type\": \"\",\n        \"description\": \"\"\n      }\n    },\n    {\n      \"column\": \"genre\",\n      \"properties\": {\n        \"dtype\": \"category\",\n        \"num_unique_values\": 2314,\n        \"samples\": [\n          \"['Animation', 'Comedy', 'Action', 'Adventure', 'Family']\",\n          \"['Comedy', 'Family', 'Animation', 'Adventure', 'Mystery']\",\n          \"['Horror', 'Mystery', 'Comedy']\"\n        ],\n        \"semantic_type\": \"\",\n        \"description\": \"\"\n      }\n    },\n    {\n      \"column\": \"overview\",\n      \"properties\": {\n        \"dtype\": \"string\",\n        \"num_unique_values\": 9895,\n        \"samples\": [\n          \"When his girlfriend goes missing, David must track down her whereabouts after he realizes she's not who she was pretending to be.\",\n          \"The genin of Konoha are having a sports day filled with races, obstacle courses and of course the relay and the prize is a paid vacation for the winner. Unfortunately Naruto and his stomach are getting him into trouble again.\",\n          \"Takao, who is training to become a shoemaker, skipped school and is sketching shoes in a Japanese-style garden. He meets a mysterious woman, Yukino, who is older than him. Then, without arranging the times, the two start to see each other again and again, but only on rainy days. They deepen their relationship and open up to each other. But the end of the rainy season soon approaches...\"\n        ],\n        \"semantic_type\": \"\",\n        \"description\": \"\"\n      }\n    },\n    {\n      \"column\": \"revenue\",\n      \"properties\": {\n        \"dtype\": \"number\",\n        \"std\": 148089703.79819846,\n        \"min\": 0.0,\n        \"max\": 2847246203.0,\n        \"num_unique_values\": 5213,\n        \"samples\": [\n          16593554.0,\n          47042000.0,\n          18671317.0\n        ],\n        \"semantic_type\": \"\",\n        \"description\": \"\"\n      }\n    },\n    {\n      \"column\": \"runtime\",\n      \"properties\": {\n        \"dtype\": \"number\",\n        \"std\": 28.77152523957897,\n        \"min\": 0.0,\n        \"max\": 400.0,\n        \"num_unique_values\": 215,\n        \"samples\": [\n          247.0,\n          210.0,\n          175.0\n        ],\n        \"semantic_type\": \"\",\n        \"description\": \"\"\n      }\n    },\n    {\n      \"column\": \"tagline\",\n      \"properties\": {\n        \"dtype\": \"string\",\n        \"num_unique_values\": 7041,\n        \"samples\": [\n          \"On every street in every city, there's a nobody who dreams of being a somebody.\",\n          \"He's up past his bedtime in the city that never sleeps.\",\n          \"More Than One Wears the Mask\"\n        ],\n        \"semantic_type\": \"\",\n        \"description\": \"\"\n      }\n    }\n  ]\n}"
            }
          },
          "metadata": {},
          "execution_count": 9
        }
      ]
    },
    {
      "cell_type": "code",
      "source": [
        "df = df[[\"original_title\", \"overview\", \"genre\", \"popularity\", \"vote_average\"]]\n",
        "df.head()"
      ],
      "metadata": {
        "colab": {
          "base_uri": "https://localhost:8080/",
          "height": 206
        },
        "id": "IHxJIgLcR_v2",
        "outputId": "75210480-d0d5-4b1a-e37f-4f6a8ddec107"
      },
      "execution_count": 10,
      "outputs": [
        {
          "output_type": "execute_result",
          "data": {
            "text/plain": [
              "                original_title  \\\n",
              "0  Venom: Let There Be Carnage   \n",
              "1                     Eternals   \n",
              "2                         Dune   \n",
              "3              Army of Thieves   \n",
              "4                     Free Guy   \n",
              "\n",
              "                                            overview  \\\n",
              "0  After finding a host body in investigative rep...   \n",
              "1  The Eternals are a team of ancient aliens who ...   \n",
              "2  Paul Atreides, a brilliant and gifted young ma...   \n",
              "3  A mysterious woman recruits bank teller Ludwig...   \n",
              "4  A bank teller called Guy realizes he is a back...   \n",
              "\n",
              "                                               genre  popularity  vote_average  \n",
              "0         ['Science Fiction', 'Action', 'Adventure']    5401.308           6.8  \n",
              "1  ['Action', 'Adventure', 'Science Fiction', 'Fa...    3365.535           7.1  \n",
              "2         ['Action', 'Adventure', 'Science Fiction']    2911.423           8.0  \n",
              "3                    ['Action', 'Crime', 'Thriller']    2552.437           6.9  \n",
              "4  ['Comedy', 'Action', 'Adventure', 'Science Fic...    1850.470           7.8  "
            ],
            "text/html": [
              "\n",
              "  <div id=\"df-17fd206e-83a7-4ced-bf70-38c31905815b\" class=\"colab-df-container\">\n",
              "    <div>\n",
              "<style scoped>\n",
              "    .dataframe tbody tr th:only-of-type {\n",
              "        vertical-align: middle;\n",
              "    }\n",
              "\n",
              "    .dataframe tbody tr th {\n",
              "        vertical-align: top;\n",
              "    }\n",
              "\n",
              "    .dataframe thead th {\n",
              "        text-align: right;\n",
              "    }\n",
              "</style>\n",
              "<table border=\"1\" class=\"dataframe\">\n",
              "  <thead>\n",
              "    <tr style=\"text-align: right;\">\n",
              "      <th></th>\n",
              "      <th>original_title</th>\n",
              "      <th>overview</th>\n",
              "      <th>genre</th>\n",
              "      <th>popularity</th>\n",
              "      <th>vote_average</th>\n",
              "    </tr>\n",
              "  </thead>\n",
              "  <tbody>\n",
              "    <tr>\n",
              "      <th>0</th>\n",
              "      <td>Venom: Let There Be Carnage</td>\n",
              "      <td>After finding a host body in investigative rep...</td>\n",
              "      <td>['Science Fiction', 'Action', 'Adventure']</td>\n",
              "      <td>5401.308</td>\n",
              "      <td>6.8</td>\n",
              "    </tr>\n",
              "    <tr>\n",
              "      <th>1</th>\n",
              "      <td>Eternals</td>\n",
              "      <td>The Eternals are a team of ancient aliens who ...</td>\n",
              "      <td>['Action', 'Adventure', 'Science Fiction', 'Fa...</td>\n",
              "      <td>3365.535</td>\n",
              "      <td>7.1</td>\n",
              "    </tr>\n",
              "    <tr>\n",
              "      <th>2</th>\n",
              "      <td>Dune</td>\n",
              "      <td>Paul Atreides, a brilliant and gifted young ma...</td>\n",
              "      <td>['Action', 'Adventure', 'Science Fiction']</td>\n",
              "      <td>2911.423</td>\n",
              "      <td>8.0</td>\n",
              "    </tr>\n",
              "    <tr>\n",
              "      <th>3</th>\n",
              "      <td>Army of Thieves</td>\n",
              "      <td>A mysterious woman recruits bank teller Ludwig...</td>\n",
              "      <td>['Action', 'Crime', 'Thriller']</td>\n",
              "      <td>2552.437</td>\n",
              "      <td>6.9</td>\n",
              "    </tr>\n",
              "    <tr>\n",
              "      <th>4</th>\n",
              "      <td>Free Guy</td>\n",
              "      <td>A bank teller called Guy realizes he is a back...</td>\n",
              "      <td>['Comedy', 'Action', 'Adventure', 'Science Fic...</td>\n",
              "      <td>1850.470</td>\n",
              "      <td>7.8</td>\n",
              "    </tr>\n",
              "  </tbody>\n",
              "</table>\n",
              "</div>\n",
              "    <div class=\"colab-df-buttons\">\n",
              "\n",
              "  <div class=\"colab-df-container\">\n",
              "    <button class=\"colab-df-convert\" onclick=\"convertToInteractive('df-17fd206e-83a7-4ced-bf70-38c31905815b')\"\n",
              "            title=\"Convert this dataframe to an interactive table.\"\n",
              "            style=\"display:none;\">\n",
              "\n",
              "  <svg xmlns=\"http://www.w3.org/2000/svg\" height=\"24px\" viewBox=\"0 -960 960 960\">\n",
              "    <path d=\"M120-120v-720h720v720H120Zm60-500h600v-160H180v160Zm220 220h160v-160H400v160Zm0 220h160v-160H400v160ZM180-400h160v-160H180v160Zm440 0h160v-160H620v160ZM180-180h160v-160H180v160Zm440 0h160v-160H620v160Z\"/>\n",
              "  </svg>\n",
              "    </button>\n",
              "\n",
              "  <style>\n",
              "    .colab-df-container {\n",
              "      display:flex;\n",
              "      gap: 12px;\n",
              "    }\n",
              "\n",
              "    .colab-df-convert {\n",
              "      background-color: #E8F0FE;\n",
              "      border: none;\n",
              "      border-radius: 50%;\n",
              "      cursor: pointer;\n",
              "      display: none;\n",
              "      fill: #1967D2;\n",
              "      height: 32px;\n",
              "      padding: 0 0 0 0;\n",
              "      width: 32px;\n",
              "    }\n",
              "\n",
              "    .colab-df-convert:hover {\n",
              "      background-color: #E2EBFA;\n",
              "      box-shadow: 0px 1px 2px rgba(60, 64, 67, 0.3), 0px 1px 3px 1px rgba(60, 64, 67, 0.15);\n",
              "      fill: #174EA6;\n",
              "    }\n",
              "\n",
              "    .colab-df-buttons div {\n",
              "      margin-bottom: 4px;\n",
              "    }\n",
              "\n",
              "    [theme=dark] .colab-df-convert {\n",
              "      background-color: #3B4455;\n",
              "      fill: #D2E3FC;\n",
              "    }\n",
              "\n",
              "    [theme=dark] .colab-df-convert:hover {\n",
              "      background-color: #434B5C;\n",
              "      box-shadow: 0px 1px 3px 1px rgba(0, 0, 0, 0.15);\n",
              "      filter: drop-shadow(0px 1px 2px rgba(0, 0, 0, 0.3));\n",
              "      fill: #FFFFFF;\n",
              "    }\n",
              "  </style>\n",
              "\n",
              "    <script>\n",
              "      const buttonEl =\n",
              "        document.querySelector('#df-17fd206e-83a7-4ced-bf70-38c31905815b button.colab-df-convert');\n",
              "      buttonEl.style.display =\n",
              "        google.colab.kernel.accessAllowed ? 'block' : 'none';\n",
              "\n",
              "      async function convertToInteractive(key) {\n",
              "        const element = document.querySelector('#df-17fd206e-83a7-4ced-bf70-38c31905815b');\n",
              "        const dataTable =\n",
              "          await google.colab.kernel.invokeFunction('convertToInteractive',\n",
              "                                                    [key], {});\n",
              "        if (!dataTable) return;\n",
              "\n",
              "        const docLinkHtml = 'Like what you see? Visit the ' +\n",
              "          '<a target=\"_blank\" href=https://colab.research.google.com/notebooks/data_table.ipynb>data table notebook</a>'\n",
              "          + ' to learn more about interactive tables.';\n",
              "        element.innerHTML = '';\n",
              "        dataTable['output_type'] = 'display_data';\n",
              "        await google.colab.output.renderOutput(dataTable, element);\n",
              "        const docLink = document.createElement('div');\n",
              "        docLink.innerHTML = docLinkHtml;\n",
              "        element.appendChild(docLink);\n",
              "      }\n",
              "    </script>\n",
              "  </div>\n",
              "\n",
              "\n",
              "<div id=\"df-556baccd-0a57-49e1-8fd2-5f3263ccd68e\">\n",
              "  <button class=\"colab-df-quickchart\" onclick=\"quickchart('df-556baccd-0a57-49e1-8fd2-5f3263ccd68e')\"\n",
              "            title=\"Suggest charts\"\n",
              "            style=\"display:none;\">\n",
              "\n",
              "<svg xmlns=\"http://www.w3.org/2000/svg\" height=\"24px\"viewBox=\"0 0 24 24\"\n",
              "     width=\"24px\">\n",
              "    <g>\n",
              "        <path d=\"M19 3H5c-1.1 0-2 .9-2 2v14c0 1.1.9 2 2 2h14c1.1 0 2-.9 2-2V5c0-1.1-.9-2-2-2zM9 17H7v-7h2v7zm4 0h-2V7h2v10zm4 0h-2v-4h2v4z\"/>\n",
              "    </g>\n",
              "</svg>\n",
              "  </button>\n",
              "\n",
              "<style>\n",
              "  .colab-df-quickchart {\n",
              "      --bg-color: #E8F0FE;\n",
              "      --fill-color: #1967D2;\n",
              "      --hover-bg-color: #E2EBFA;\n",
              "      --hover-fill-color: #174EA6;\n",
              "      --disabled-fill-color: #AAA;\n",
              "      --disabled-bg-color: #DDD;\n",
              "  }\n",
              "\n",
              "  [theme=dark] .colab-df-quickchart {\n",
              "      --bg-color: #3B4455;\n",
              "      --fill-color: #D2E3FC;\n",
              "      --hover-bg-color: #434B5C;\n",
              "      --hover-fill-color: #FFFFFF;\n",
              "      --disabled-bg-color: #3B4455;\n",
              "      --disabled-fill-color: #666;\n",
              "  }\n",
              "\n",
              "  .colab-df-quickchart {\n",
              "    background-color: var(--bg-color);\n",
              "    border: none;\n",
              "    border-radius: 50%;\n",
              "    cursor: pointer;\n",
              "    display: none;\n",
              "    fill: var(--fill-color);\n",
              "    height: 32px;\n",
              "    padding: 0;\n",
              "    width: 32px;\n",
              "  }\n",
              "\n",
              "  .colab-df-quickchart:hover {\n",
              "    background-color: var(--hover-bg-color);\n",
              "    box-shadow: 0 1px 2px rgba(60, 64, 67, 0.3), 0 1px 3px 1px rgba(60, 64, 67, 0.15);\n",
              "    fill: var(--button-hover-fill-color);\n",
              "  }\n",
              "\n",
              "  .colab-df-quickchart-complete:disabled,\n",
              "  .colab-df-quickchart-complete:disabled:hover {\n",
              "    background-color: var(--disabled-bg-color);\n",
              "    fill: var(--disabled-fill-color);\n",
              "    box-shadow: none;\n",
              "  }\n",
              "\n",
              "  .colab-df-spinner {\n",
              "    border: 2px solid var(--fill-color);\n",
              "    border-color: transparent;\n",
              "    border-bottom-color: var(--fill-color);\n",
              "    animation:\n",
              "      spin 1s steps(1) infinite;\n",
              "  }\n",
              "\n",
              "  @keyframes spin {\n",
              "    0% {\n",
              "      border-color: transparent;\n",
              "      border-bottom-color: var(--fill-color);\n",
              "      border-left-color: var(--fill-color);\n",
              "    }\n",
              "    20% {\n",
              "      border-color: transparent;\n",
              "      border-left-color: var(--fill-color);\n",
              "      border-top-color: var(--fill-color);\n",
              "    }\n",
              "    30% {\n",
              "      border-color: transparent;\n",
              "      border-left-color: var(--fill-color);\n",
              "      border-top-color: var(--fill-color);\n",
              "      border-right-color: var(--fill-color);\n",
              "    }\n",
              "    40% {\n",
              "      border-color: transparent;\n",
              "      border-right-color: var(--fill-color);\n",
              "      border-top-color: var(--fill-color);\n",
              "    }\n",
              "    60% {\n",
              "      border-color: transparent;\n",
              "      border-right-color: var(--fill-color);\n",
              "    }\n",
              "    80% {\n",
              "      border-color: transparent;\n",
              "      border-right-color: var(--fill-color);\n",
              "      border-bottom-color: var(--fill-color);\n",
              "    }\n",
              "    90% {\n",
              "      border-color: transparent;\n",
              "      border-bottom-color: var(--fill-color);\n",
              "    }\n",
              "  }\n",
              "</style>\n",
              "\n",
              "  <script>\n",
              "    async function quickchart(key) {\n",
              "      const quickchartButtonEl =\n",
              "        document.querySelector('#' + key + ' button');\n",
              "      quickchartButtonEl.disabled = true;  // To prevent multiple clicks.\n",
              "      quickchartButtonEl.classList.add('colab-df-spinner');\n",
              "      try {\n",
              "        const charts = await google.colab.kernel.invokeFunction(\n",
              "            'suggestCharts', [key], {});\n",
              "      } catch (error) {\n",
              "        console.error('Error during call to suggestCharts:', error);\n",
              "      }\n",
              "      quickchartButtonEl.classList.remove('colab-df-spinner');\n",
              "      quickchartButtonEl.classList.add('colab-df-quickchart-complete');\n",
              "    }\n",
              "    (() => {\n",
              "      let quickchartButtonEl =\n",
              "        document.querySelector('#df-556baccd-0a57-49e1-8fd2-5f3263ccd68e button');\n",
              "      quickchartButtonEl.style.display =\n",
              "        google.colab.kernel.accessAllowed ? 'block' : 'none';\n",
              "    })();\n",
              "  </script>\n",
              "</div>\n",
              "    </div>\n",
              "  </div>\n"
            ],
            "application/vnd.google.colaboratory.intrinsic+json": {
              "type": "dataframe",
              "variable_name": "df",
              "summary": "{\n  \"name\": \"df\",\n  \"rows\": 10014,\n  \"fields\": [\n    {\n      \"column\": \"original_title\",\n      \"properties\": {\n        \"dtype\": \"string\",\n        \"num_unique_values\": 9757,\n        \"samples\": [\n          \"Vadias do Sexo Sangrento\",\n          \"Daredevil\",\n          \"Friends with Benefits\"\n        ],\n        \"semantic_type\": \"\",\n        \"description\": \"\"\n      }\n    },\n    {\n      \"column\": \"overview\",\n      \"properties\": {\n        \"dtype\": \"string\",\n        \"num_unique_values\": 9895,\n        \"samples\": [\n          \"When his girlfriend goes missing, David must track down her whereabouts after he realizes she's not who she was pretending to be.\",\n          \"The genin of Konoha are having a sports day filled with races, obstacle courses and of course the relay and the prize is a paid vacation for the winner. Unfortunately Naruto and his stomach are getting him into trouble again.\",\n          \"Takao, who is training to become a shoemaker, skipped school and is sketching shoes in a Japanese-style garden. He meets a mysterious woman, Yukino, who is older than him. Then, without arranging the times, the two start to see each other again and again, but only on rainy days. They deepen their relationship and open up to each other. But the end of the rainy season soon approaches...\"\n        ],\n        \"semantic_type\": \"\",\n        \"description\": \"\"\n      }\n    },\n    {\n      \"column\": \"genre\",\n      \"properties\": {\n        \"dtype\": \"category\",\n        \"num_unique_values\": 2314,\n        \"samples\": [\n          \"['Animation', 'Comedy', 'Action', 'Adventure', 'Family']\",\n          \"['Comedy', 'Family', 'Animation', 'Adventure', 'Mystery']\",\n          \"['Horror', 'Mystery', 'Comedy']\"\n        ],\n        \"semantic_type\": \"\",\n        \"description\": \"\"\n      }\n    },\n    {\n      \"column\": \"popularity\",\n      \"properties\": {\n        \"dtype\": \"number\",\n        \"std\": 100.69395779578333,\n        \"min\": 6.269,\n        \"max\": 5401.308,\n        \"num_unique_values\": 8596,\n        \"samples\": [\n          18.02,\n          11.279,\n          42.001\n        ],\n        \"semantic_type\": \"\",\n        \"description\": \"\"\n      }\n    },\n    {\n      \"column\": \"vote_average\",\n      \"properties\": {\n        \"dtype\": \"number\",\n        \"std\": 1.4342597908380341,\n        \"min\": 0.0,\n        \"max\": 9.5,\n        \"num_unique_values\": 73,\n        \"samples\": [\n          7.8,\n          3.6,\n          6.2\n        ],\n        \"semantic_type\": \"\",\n        \"description\": \"\"\n      }\n    }\n  ]\n}"
            }
          },
          "metadata": {},
          "execution_count": 10
        }
      ]
    },
    {
      "cell_type": "code",
      "source": [
        "df = df.dropna()\n",
        "df = df.reset_index()\n",
        "df = df[:5500]"
      ],
      "metadata": {
        "id": "s3qbJfxoSfvx"
      },
      "execution_count": 11,
      "outputs": []
    },
    {
      "cell_type": "code",
      "source": [
        "titles = list(df['overview'])"
      ],
      "metadata": {
        "id": "6WFSanqfSwKY"
      },
      "execution_count": 12,
      "outputs": []
    },
    {
      "cell_type": "code",
      "source": [
        "titles[:10]"
      ],
      "metadata": {
        "colab": {
          "base_uri": "https://localhost:8080/"
        },
        "id": "n61LST5ES4CP",
        "outputId": "d8494a45-e576-4a4f-dad7-fa2c6adcc4c9"
      },
      "execution_count": 13,
      "outputs": [
        {
          "output_type": "execute_result",
          "data": {
            "text/plain": [
              "['After finding a host body in investigative reporter Eddie Brock, the alien symbiote must face a new enemy, Carnage, the alter ego of serial killer Cletus Kasady.',\n",
              " 'The Eternals are a team of ancient aliens who have been living on Earth in secret for thousands of years. When an unexpected tragedy forces them out of the shadows, they are forced to reunite against mankind’s most ancient enemy, the Deviants.',\n",
              " \"Paul Atreides, a brilliant and gifted young man born into a great destiny beyond his understanding, must travel to the most dangerous planet in the universe to ensure the future of his family and his people. As malevolent forces explode into conflict over the planet's exclusive supply of the most precious resource in existence-a commodity capable of unlocking humanity's greatest potential-only those who can conquer their fear will survive.\",\n",
              " 'A mysterious woman recruits bank teller Ludwig Dieter to lead a group of aspiring thieves on a top-secret heist during the early stages of the zombie apocalypse.',\n",
              " 'A bank teller called Guy realizes he is a background character in an open world video game called Free City that will soon go offline.',\n",
              " 'In her turbulent life as a professional assassin, Sam has no choice but to go rogue to save the life of an innocent 8-year-old girl in the middle of the gang war she has unleashed.',\n",
              " 'Investigative journalist Eddie Brock attempts a comeback following a scandal, but accidentally becomes the host of Venom, a violent, super powerful alien symbiote. Soon, he must rely on his newfound powers to protect the world from a shadowy organization looking for a symbiote of their own.',\n",
              " \"Minutes after Laurie Strode, her daughter Karen and granddaughter Allyson left masked monster Michael Myers caged and burning in Laurie's basement, Laurie is rushed to the hospital with life-threatening injuries, believing she finally killed her lifelong tormentor. But when Michael manages to free himself from Laurie's trap, his ritual bloodbath resumes. As Laurie fights her pain and prepares to defend herself against him, she inspires all of Haddonfield to rise up against their unstoppable monster. The Strode women join a group of other survivors of Michael's first rampage who decide to take matters into their own hands, forming a vigilante mob that sets out to hunt Michael down, once and for all.\",\n",
              " 'When something horrible happens to the only survivor of a bloody massacre, an insecure rookie cop must overcome his fears to stop further carnage.',\n",
              " 'A seemingly cold-blooded hitman is assigned to befriend a call girl, but all hell breaks loose when he is assigned to kill her.']"
            ]
          },
          "metadata": {},
          "execution_count": 13
        }
      ]
    },
    {
      "cell_type": "code",
      "source": [
        "embeddings = embed(titles)\n",
        "print('the embedding shapes is: ', embeddings.shape)"
      ],
      "metadata": {
        "colab": {
          "base_uri": "https://localhost:8080/"
        },
        "id": "YIB6j5knTBbs",
        "outputId": "ac7aad4f-b29e-4ba5-b990-834c9f073092"
      },
      "execution_count": 14,
      "outputs": [
        {
          "output_type": "stream",
          "name": "stdout",
          "text": [
            "the embedding shapes is:  (5500, 512)\n"
          ]
        }
      ]
    },
    {
      "cell_type": "code",
      "source": [
        "pca = PCA(n_components=5)\n",
        "emb_2d = pca.fit_transform(embeddings)"
      ],
      "metadata": {
        "id": "7-_qrhS_TiDH"
      },
      "execution_count": 15,
      "outputs": []
    },
    {
      "cell_type": "code",
      "source": [
        "plt.figure(figsize=(11,6))\n",
        "plt.title('Embedding space')\n",
        "plt.scatter(emb_2d[:, 0], emb_2d[:, 1])\n",
        "plt.show()"
      ],
      "metadata": {
        "colab": {
          "base_uri": "https://localhost:8080/",
          "height": 545
        },
        "id": "CsJ0KfTET5DI",
        "outputId": "c4e700ac-0ed3-4801-a07d-dd76a1b42097"
      },
      "execution_count": 16,
      "outputs": [
        {
          "output_type": "display_data",
          "data": {
            "text/plain": [
              "<Figure size 1100x600 with 1 Axes>"
            ],
            "image/png": "[encoded data removed]"
          },
          "metadata": {}
        }
      ]
    },
    {
      "cell_type": "code",
      "source": [
        "nn = NearestNeighbors(n_neighbors = 15)\n",
        "nn.fit(embeddings)"
      ],
      "metadata": {
        "colab": {
          "base_uri": "https://localhost:8080/",
          "height": 75
        },
        "id": "x5HmrraNUkBU",
        "outputId": "bbf2bcb3-13ad-4542-cb60-6c38f9035117"
      },
      "execution_count": 17,
      "outputs": [
        {
          "output_type": "execute_result",
          "data": {
            "text/plain": [
              "NearestNeighbors(n_neighbors=15)"
            ],
            "text/html": [
              "<style>#sk-container-id-1 {color: black;background-color: white;}#sk-container-id-1 pre{padding: 0;}#sk-container-id-1 div.sk-toggleable {background-color: white;}#sk-container-id-1 label.sk-toggleable__label {cursor: pointer;display: block;width: 100%;margin-bottom: 0;padding: 0.3em;box-sizing: border-box;text-align: center;}#sk-container-id-1 label.sk-toggleable__label-arrow:before {content: \"▸\";float: left;margin-right: 0.25em;color: #696969;}#sk-container-id-1 label.sk-toggleable__label-arrow:hover:before {color: black;}#sk-container-id-1 div.sk-estimator:hover label.sk-toggleable__label-arrow:before {color: black;}#sk-container-id-1 div.sk-toggleable__content {max-height: 0;max-width: 0;overflow: hidden;text-align: left;background-color: #f0f8ff;}#sk-container-id-1 div.sk-toggleable__content pre {margin: 0.2em;color: black;border-radius: 0.25em;background-color: #f0f8ff;}#sk-container-id-1 input.sk-toggleable__control:checked~div.sk-toggleable__content {max-height: 200px;max-width: 100%;overflow: auto;}#sk-container-id-1 input.sk-toggleable__control:checked~label.sk-toggleable__label-arrow:before {content: \"▾\";}#sk-container-id-1 div.sk-estimator input.sk-toggleable__control:checked~label.sk-toggleable__label {background-color: #d4ebff;}#sk-container-id-1 div.sk-label input.sk-toggleable__control:checked~label.sk-toggleable__label {background-color: #d4ebff;}#sk-container-id-1 input.sk-hidden--visually {border: 0;clip: rect(1px 1px 1px 1px);clip: rect(1px, 1px, 1px, 1px);height: 1px;margin: -1px;overflow: hidden;padding: 0;position: absolute;width: 1px;}#sk-container-id-1 div.sk-estimator {font-family: monospace;background-color: #f0f8ff;border: 1px dotted black;border-radius: 0.25em;box-sizing: border-box;margin-bottom: 0.5em;}#sk-container-id-1 div.sk-estimator:hover {background-color: #d4ebff;}#sk-container-id-1 div.sk-parallel-item::after {content: \"\";width: 100%;border-bottom: 1px solid gray;flex-grow: 1;}#sk-container-id-1 div.sk-label:hover label.sk-toggleable__label {background-color: #d4ebff;}#sk-container-id-1 div.sk-serial::before {content: \"\";position: absolute;border-left: 1px solid gray;box-sizing: border-box;top: 0;bottom: 0;left: 50%;z-index: 0;}#sk-container-id-1 div.sk-serial {display: flex;flex-direction: column;align-items: center;background-color: white;padding-right: 0.2em;padding-left: 0.2em;position: relative;}#sk-container-id-1 div.sk-item {position: relative;z-index: 1;}#sk-container-id-1 div.sk-parallel {display: flex;align-items: stretch;justify-content: center;background-color: white;position: relative;}#sk-container-id-1 div.sk-item::before, #sk-container-id-1 div.sk-parallel-item::before {content: \"\";position: absolute;border-left: 1px solid gray;box-sizing: border-box;top: 0;bottom: 0;left: 50%;z-index: -1;}#sk-container-id-1 div.sk-parallel-item {display: flex;flex-direction: column;z-index: 1;position: relative;background-color: white;}#sk-container-id-1 div.sk-parallel-item:first-child::after {align-self: flex-end;width: 50%;}#sk-container-id-1 div.sk-parallel-item:last-child::after {align-self: flex-start;width: 50%;}#sk-container-id-1 div.sk-parallel-item:only-child::after {width: 0;}#sk-container-id-1 div.sk-dashed-wrapped {border: 1px dashed gray;margin: 0 0.4em 0.5em 0.4em;box-sizing: border-box;padding-bottom: 0.4em;background-color: white;}#sk-container-id-1 div.sk-label label {font-family: monospace;font-weight: bold;display: inline-block;line-height: 1.2em;}#sk-container-id-1 div.sk-label-container {text-align: center;}#sk-container-id-1 div.sk-container {/* jupyter's `normalize.less` sets `[hidden] { display: none; }` but bootstrap.min.css set `[hidden] { display: none !important; }` so we also need the `!important` here to be able to override the default hidden behavior on the sphinx rendered scikit-learn.org. See: https://github.com/scikit-learn/scikit-learn/issues/21755 */display: inline-block !important;position: relative;}#sk-container-id-1 div.sk-text-repr-fallback {display: none;}</style><div id=\"sk-container-id-1\" class=\"sk-top-container\"><div class=\"sk-text-repr-fallback\"><pre>NearestNeighbors(n_neighbors=15)</pre><b>In a Jupyter environment, please rerun this cell to show the HTML representation or trust the notebook. <br />On GitHub, the HTML representation is unable to render, please try loading this page with nbviewer.org.</b></div><div class=\"sk-container\" hidden><div class=\"sk-item\"><div class=\"sk-estimator sk-toggleable\"><input class=\"sk-toggleable__control sk-hidden--visually\" id=\"sk-estimator-id-1\" type=\"checkbox\" checked><label for=\"sk-estimator-id-1\" class=\"sk-toggleable__label sk-toggleable__label-arrow\">NearestNeighbors</label><div class=\"sk-toggleable__content\"><pre>NearestNeighbors(n_neighbors=15)</pre></div></div></div></div></div>"
            ]
          },
          "metadata": {},
          "execution_count": 17
        }
      ]
    },
    {
      "cell_type": "code",
      "source": [
        "NearestNeighbors(n_neighbors = 15)"
      ],
      "metadata": {
        "colab": {
          "base_uri": "https://localhost:8080/",
          "height": 75
        },
        "id": "ZG3mEtr9UzKl",
        "outputId": "40585f50-ca7a-401a-9da5-d6f477fdd507"
      },
      "execution_count": 18,
      "outputs": [
        {
          "output_type": "execute_result",
          "data": {
            "text/plain": [
              "NearestNeighbors(n_neighbors=15)"
            ],
            "text/html": [
              "<style>#sk-container-id-2 {color: black;background-color: white;}#sk-container-id-2 pre{padding: 0;}#sk-container-id-2 div.sk-toggleable {background-color: white;}#sk-container-id-2 label.sk-toggleable__label {cursor: pointer;display: block;width: 100%;margin-bottom: 0;padding: 0.3em;box-sizing: border-box;text-align: center;}#sk-container-id-2 label.sk-toggleable__label-arrow:before {content: \"▸\";float: left;margin-right: 0.25em;color: #696969;}#sk-container-id-2 label.sk-toggleable__label-arrow:hover:before {color: black;}#sk-container-id-2 div.sk-estimator:hover label.sk-toggleable__label-arrow:before {color: black;}#sk-container-id-2 div.sk-toggleable__content {max-height: 0;max-width: 0;overflow: hidden;text-align: left;background-color: #f0f8ff;}#sk-container-id-2 div.sk-toggleable__content pre {margin: 0.2em;color: black;border-radius: 0.25em;background-color: #f0f8ff;}#sk-container-id-2 input.sk-toggleable__control:checked~div.sk-toggleable__content {max-height: 200px;max-width: 100%;overflow: auto;}#sk-container-id-2 input.sk-toggleable__control:checked~label.sk-toggleable__label-arrow:before {content: \"▾\";}#sk-container-id-2 div.sk-estimator input.sk-toggleable__control:checked~label.sk-toggleable__label {background-color: #d4ebff;}#sk-container-id-2 div.sk-label input.sk-toggleable__control:checked~label.sk-toggleable__label {background-color: #d4ebff;}#sk-container-id-2 input.sk-hidden--visually {border: 0;clip: rect(1px 1px 1px 1px);clip: rect(1px, 1px, 1px, 1px);height: 1px;margin: -1px;overflow: hidden;padding: 0;position: absolute;width: 1px;}#sk-container-id-2 div.sk-estimator {font-family: monospace;background-color: #f0f8ff;border: 1px dotted black;border-radius: 0.25em;box-sizing: border-box;margin-bottom: 0.5em;}#sk-container-id-2 div.sk-estimator:hover {background-color: #d4ebff;}#sk-container-id-2 div.sk-parallel-item::after {content: \"\";width: 100%;border-bottom: 1px solid gray;flex-grow: 1;}#sk-container-id-2 div.sk-label:hover label.sk-toggleable__label {background-color: #d4ebff;}#sk-container-id-2 div.sk-serial::before {content: \"\";position: absolute;border-left: 1px solid gray;box-sizing: border-box;top: 0;bottom: 0;left: 50%;z-index: 0;}#sk-container-id-2 div.sk-serial {display: flex;flex-direction: column;align-items: center;background-color: white;padding-right: 0.2em;padding-left: 0.2em;position: relative;}#sk-container-id-2 div.sk-item {position: relative;z-index: 1;}#sk-container-id-2 div.sk-parallel {display: flex;align-items: stretch;justify-content: center;background-color: white;position: relative;}#sk-container-id-2 div.sk-item::before, #sk-container-id-2 div.sk-parallel-item::before {content: \"\";position: absolute;border-left: 1px solid gray;box-sizing: border-box;top: 0;bottom: 0;left: 50%;z-index: -1;}#sk-container-id-2 div.sk-parallel-item {display: flex;flex-direction: column;z-index: 1;position: relative;background-color: white;}#sk-container-id-2 div.sk-parallel-item:first-child::after {align-self: flex-end;width: 50%;}#sk-container-id-2 div.sk-parallel-item:last-child::after {align-self: flex-start;width: 50%;}#sk-container-id-2 div.sk-parallel-item:only-child::after {width: 0;}#sk-container-id-2 div.sk-dashed-wrapped {border: 1px dashed gray;margin: 0 0.4em 0.5em 0.4em;box-sizing: border-box;padding-bottom: 0.4em;background-color: white;}#sk-container-id-2 div.sk-label label {font-family: monospace;font-weight: bold;display: inline-block;line-height: 1.2em;}#sk-container-id-2 div.sk-label-container {text-align: center;}#sk-container-id-2 div.sk-container {/* jupyter's `normalize.less` sets `[hidden] { display: none; }` but bootstrap.min.css set `[hidden] { display: none !important; }` so we also need the `!important` here to be able to override the default hidden behavior on the sphinx rendered scikit-learn.org. See: https://github.com/scikit-learn/scikit-learn/issues/21755 */display: inline-block !important;position: relative;}#sk-container-id-2 div.sk-text-repr-fallback {display: none;}</style><div id=\"sk-container-id-2\" class=\"sk-top-container\"><div class=\"sk-text-repr-fallback\"><pre>NearestNeighbors(n_neighbors=15)</pre><b>In a Jupyter environment, please rerun this cell to show the HTML representation or trust the notebook. <br />On GitHub, the HTML representation is unable to render, please try loading this page with nbviewer.org.</b></div><div class=\"sk-container\" hidden><div class=\"sk-item\"><div class=\"sk-estimator sk-toggleable\"><input class=\"sk-toggleable__control sk-hidden--visually\" id=\"sk-estimator-id-2\" type=\"checkbox\" checked><label for=\"sk-estimator-id-2\" class=\"sk-toggleable__label sk-toggleable__label-arrow\">NearestNeighbors</label><div class=\"sk-toggleable__content\"><pre>NearestNeighbors(n_neighbors=15)</pre></div></div></div></div></div>"
            ]
          },
          "metadata": {},
          "execution_count": 18
        }
      ]
    },
    {
      "cell_type": "code",
      "source": [
        "def recommend(text):\n",
        "    emb = embed([text])\n",
        "    neighbors = nn.kneighbors(emb, return_distance=False)[0]\n",
        "    recommended_movies = df.iloc[neighbors]\n",
        "    recommended_movies = recommended_movies.sort_values(by=[\"popularity\", \"vote_average\"], ascending=False)\n",
        "    top_movie = recommended_movies.iloc[0]\n",
        "    return recommended_movies[[\"original_title\", \"popularity\", \"vote_average\"]].values.tolist()\n"
      ],
      "metadata": {
        "id": "eBmj4_SsVS-J"
      },
      "execution_count": 19,
      "outputs": []
    },
    {
      "cell_type": "code",
      "source": [
        "# Test the recommendation system\n",
        "print('Recommended Movies:')\n",
        "# enter the input here:\n",
        "recommendations = recommend('i dont like robbery but i like thriller')\n",
        "for movie in recommendations:\n",
        "    print(f'Title: {movie[0]},\\t \\t Popularity: {movie[1]}, \\t \\t Vote Average: {movie[2]}')\n"
      ],
      "metadata": {
        "colab": {
          "base_uri": "https://localhost:8080/"
        },
        "id": "gWx0yJY9WEgD",
        "outputId": "b1bc54b8-b286-4bbe-f4f0-5d09902fddef"
      },
      "execution_count": 20,
      "outputs": [
        {
          "output_type": "stream",
          "name": "stdout",
          "text": [
            "Recommended Movies:\n",
            "Title: The Harder They Fall,\t \t Popularity: 264.246, \t \t Vote Average: 6.6\n",
            "Title: The Batman,\t \t Popularity: 41.519, \t \t Vote Average: 0.0\n",
            "Title: Free Fire,\t \t Popularity: 30.689, \t \t Vote Average: 6.3\n",
            "Title: Speed,\t \t Popularity: 30.605, \t \t Vote Average: 7.1\n",
            "Title: La Proie,\t \t Popularity: 29.404, \t \t Vote Average: 6.4\n",
            "Title: Precious Cargo,\t \t Popularity: 24.909, \t \t Vote Average: 5.2\n",
            "Title: Lucky Number Slevin,\t \t Popularity: 21.266, \t \t Vote Average: 7.5\n",
            "Title: Get Rich or Die Tryin',\t \t Popularity: 20.807, \t \t Vote Average: 6.7\n",
            "Title: Bastille Day,\t \t Popularity: 20.732, \t \t Vote Average: 6.3\n",
            "Title: 악인전,\t \t Popularity: 20.396, \t \t Vote Average: 7.5\n",
            "Title: War,\t \t Popularity: 19.168, \t \t Vote Average: 6.3\n",
            "Title: Lost Highway,\t \t Popularity: 17.534, \t \t Vote Average: 7.6\n",
            "Title: ルパン三世VS名探偵コナン THE MOVIE,\t \t Popularity: 15.29, \t \t Vote Average: 6.8\n",
            "Title: King of Thieves,\t \t Popularity: 15.071, \t \t Vote Average: 5.4\n",
            "Title: Tango & Cash,\t \t Popularity: 14.068, \t \t Vote Average: 6.4\n"
          ]
        }
      ]
    }
  ]
}